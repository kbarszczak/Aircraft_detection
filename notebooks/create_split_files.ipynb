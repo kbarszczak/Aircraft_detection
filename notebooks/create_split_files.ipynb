{
 "cells": [
  {
   "cell_type": "code",
   "execution_count": 1,
   "id": "4ed81c7e",
   "metadata": {},
   "outputs": [],
   "source": [
    "import random\n",
    "import glob\n",
    "import os"
   ]
  },
  {
   "cell_type": "code",
   "execution_count": 2,
   "id": "bd4ca3cf",
   "metadata": {},
   "outputs": [],
   "source": [
    "train_size = 10000\n",
    "test_size = 1000\n",
    "valid_size = 585\n",
    "path = 'D:/Data/Aircraft_Detection'"
   ]
  },
  {
   "cell_type": "code",
   "execution_count": 3,
   "id": "e53fcd91",
   "metadata": {},
   "outputs": [],
   "source": [
    "files = glob.glob(os.path.join(path, 'dataset', '*'))\n",
    "files = [file.replace(\".csv\", \"\").split('\\\\')[-1] for file in files if '.csv' in file]\n",
    "random.shuffle(files)"
   ]
  },
  {
   "cell_type": "code",
   "execution_count": 4,
   "id": "076acb6c",
   "metadata": {},
   "outputs": [],
   "source": [
    "assert train_size + test_size + valid_size <= len(files)\n",
    "\n",
    "train = files[0:train_size]\n",
    "test = files[train_size:train_size+test_size]\n",
    "valid = files[train_size+test_size:train_size+test_size+valid_size]"
   ]
  },
  {
   "cell_type": "code",
   "execution_count": 5,
   "id": "116dcaf6",
   "metadata": {},
   "outputs": [
    {
     "name": "stdout",
     "output_type": "stream",
     "text": [
      "Train size: 10000\n",
      "Test size: 1000\n",
      "Valid size: 585\n"
     ]
    }
   ],
   "source": [
    "print(f'Train size: {len(train)}')\n",
    "print(f'Test size: {len(test)}')\n",
    "print(f'Valid size: {len(valid)}')"
   ]
  },
  {
   "cell_type": "code",
   "execution_count": 6,
   "id": "68ac98d7",
   "metadata": {},
   "outputs": [],
   "source": [
    "with open(os.path.join(path, \"train.txt\"), 'w') as file:\n",
    "    file.write('\\n'.join(train))\n",
    "    \n",
    "with open(os.path.join(path, \"evaluate.txt\"), 'w') as file:\n",
    "    file.write('\\n'.join(test))\n",
    "    \n",
    "with open(os.path.join(path, \"valid.txt\"), 'w') as file:\n",
    "    file.write('\\n'.join(valid))"
   ]
  },
  {
   "cell_type": "code",
   "execution_count": null,
   "id": "4e6c8565",
   "metadata": {},
   "outputs": [],
   "source": []
  }
 ],
 "metadata": {
  "kernelspec": {
   "display_name": "Python 3.9.15_2 (pytorch)",
   "language": "python",
   "name": "python3"
  },
  "language_info": {
   "codemirror_mode": {
    "name": "ipython",
    "version": 3
   },
   "file_extension": ".py",
   "mimetype": "text/x-python",
   "name": "python",
   "nbconvert_exporter": "python",
   "pygments_lexer": "ipython3",
   "version": "3.10.10"
  }
 },
 "nbformat": 4,
 "nbformat_minor": 5
}
